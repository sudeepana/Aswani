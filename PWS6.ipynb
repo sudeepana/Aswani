{
 "cells": [
  {
   "cell_type": "markdown",
   "metadata": {},
   "source": [
    "# TOdays concepts\n",
    "## oops\n",
    "## Regular expressions\n",
    "## Files\n",
    "## Malplotib"
   ]
  },
  {
   "cell_type": "code",
   "execution_count": 1,
   "metadata": {
    "collapsed": true
   },
   "outputs": [
    {
     "ename": "IndentationError",
     "evalue": "expected an indented block (<ipython-input-1-a0b434c92921>, line 6)",
     "output_type": "error",
     "traceback": [
      "\u001b[1;36m  File \u001b[1;32m\"<ipython-input-1-a0b434c92921>\"\u001b[1;36m, line \u001b[1;32m6\u001b[0m\n\u001b[1;33m    class student:\u001b[0m\n\u001b[1;37m    ^\u001b[0m\n\u001b[1;31mIndentationError\u001b[0m\u001b[1;31m:\u001b[0m expected an indented block\n"
     ]
    }
   ],
   "source": [
    "# class:\n",
    "    # collection of variables and methods\n",
    "class classmate:\n",
    "    # variables\n",
    "    # Methods\n",
    "class student:\n",
    "    pass"
   ]
  },
  {
   "cell_type": "code",
   "execution_count": 2,
   "metadata": {
    "collapsed": true
   },
   "outputs": [
    {
     "ename": "NameError",
     "evalue": "name 'student' is not defined",
     "output_type": "error",
     "traceback": [
      "\u001b[1;31m---------------------------------------------------------------------------\u001b[0m",
      "\u001b[1;31mNameError\u001b[0m                                 Traceback (most recent call last)",
      "\u001b[1;32m<ipython-input-2-145bf97269e2>\u001b[0m in \u001b[0;36m<module>\u001b[1;34m\u001b[0m\n\u001b[0;32m      2\u001b[0m \u001b[1;31m# syntax\u001b[0m\u001b[1;33m\u001b[0m\u001b[1;33m\u001b[0m\u001b[1;33m\u001b[0m\u001b[0m\n\u001b[0;32m      3\u001b[0m \u001b[1;31m# var = classname()\u001b[0m\u001b[1;33m\u001b[0m\u001b[1;33m\u001b[0m\u001b[1;33m\u001b[0m\u001b[0m\n\u001b[1;32m----> 4\u001b[1;33m \u001b[0ms\u001b[0m\u001b[1;33m=\u001b[0m\u001b[0mstudent\u001b[0m\u001b[1;33m(\u001b[0m\u001b[1;33m)\u001b[0m\u001b[1;33m\u001b[0m\u001b[1;33m\u001b[0m\u001b[0m\n\u001b[0m",
      "\u001b[1;31mNameError\u001b[0m: name 'student' is not defined"
     ]
    }
   ],
   "source": [
    "# to create a object\n",
    "# syntax\n",
    "# var = classname()\n",
    "s=student()\n"
   ]
  },
  {
   "cell_type": "code",
   "execution_count": 9,
   "metadata": {},
   "outputs": [],
   "source": [
    "class student:\n",
    "    x=10\n",
    "    y=20\n",
    "    def Display(self):\n",
    "        name=input('enter the name of the student:')\n",
    "        print('hello',name)"
   ]
  },
  {
   "cell_type": "code",
   "execution_count": 10,
   "metadata": {},
   "outputs": [
    {
     "name": "stdout",
     "output_type": "stream",
     "text": [
      "enter the name of the student:tgyr\n",
      "hello tgyr\n"
     ]
    }
   ],
   "source": [
    "student().x\n",
    "student().y\n",
    "s=student()\n",
    "s.x\n",
    "s.Display()"
   ]
  },
  {
   "cell_type": "code",
   "execution_count": 11,
   "metadata": {},
   "outputs": [],
   "source": [
    "class student:\n",
    "    x=10\n",
    "    y=20\n",
    "    def Display(self):\n",
    "        z=30\n",
    "        name=input('enter the name of the student:')\n",
    "        print('hello',name)"
   ]
  },
  {
   "cell_type": "code",
   "execution_count": 12,
   "metadata": {},
   "outputs": [
    {
     "name": "stdout",
     "output_type": "stream",
     "text": [
      "enter the name of the student:tgyr\n",
      "hello tgyr\n"
     ]
    }
   ],
   "source": [
    "student().x\n",
    "student().y\n",
    "s=student()\n",
    "s.x\n",
    "s.Display()"
   ]
  },
  {
   "cell_type": "code",
   "execution_count": 13,
   "metadata": {},
   "outputs": [],
   "source": [
    "# constructor\n",
    "# syntax:\n",
    "# def __init__(self):\n",
    "    # statements"
   ]
  },
  {
   "cell_type": "code",
   "execution_count": 26,
   "metadata": {},
   "outputs": [],
   "source": [
    "class Cse:\n",
    "    sections=3\n",
    "    year=2\n",
    "    def __init__(self):\n",
    "        print('this is constructor')\n",
    "    def details(self):\n",
    "        print('hello {} year having {} sections'.format(Cse.year,Cse.sections))"
   ]
  },
  {
   "cell_type": "code",
   "execution_count": 28,
   "metadata": {},
   "outputs": [
    {
     "name": "stdout",
     "output_type": "stream",
     "text": [
      "this is constructor\n",
      "hello 2 year having 3 sections\n"
     ]
    }
   ],
   "source": [
    "c=Cse()\n",
    "c.details()"
   ]
  },
  {
   "cell_type": "code",
   "execution_count": 30,
   "metadata": {},
   "outputs": [],
   "source": [
    "class Cse:\n",
    "    def __init__(self,sections,year):\n",
    "        print('this is constructor')\n",
    "        self.sections=sections\n",
    "        self.year=year\n",
    "    def details(self):\n",
    "        print('hello {} year having {} sections'.format(self.year,self.sections))"
   ]
  },
  {
   "cell_type": "code",
   "execution_count": 31,
   "metadata": {},
   "outputs": [
    {
     "name": "stdout",
     "output_type": "stream",
     "text": [
      "this is constructor\n"
     ]
    },
    {
     "data": {
      "text/plain": [
       "<bound method Cse.details of <__main__.Cse object at 0x0349C700>>"
      ]
     },
     "execution_count": 31,
     "metadata": {},
     "output_type": "execute_result"
    }
   ],
   "source": [
    "c=Cse(3,2)\n",
    "c.details"
   ]
  },
  {
   "cell_type": "code",
   "execution_count": null,
   "metadata": {},
   "outputs": [],
   "source": []
  }
 ],
 "metadata": {
  "kernelspec": {
   "display_name": "Python 3",
   "language": "python",
   "name": "python3"
  },
  "language_info": {
   "codemirror_mode": {
    "name": "ipython",
    "version": 3
   },
   "file_extension": ".py",
   "mimetype": "text/x-python",
   "name": "python",
   "nbconvert_exporter": "python",
   "pygments_lexer": "ipython3",
   "version": "3.8.5"
  }
 },
 "nbformat": 4,
 "nbformat_minor": 4
}
